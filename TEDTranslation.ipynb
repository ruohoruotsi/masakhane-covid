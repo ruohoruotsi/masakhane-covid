{
  "nbformat": 4,
  "nbformat_minor": 0,
  "metadata": {
    "colab": {
      "name": "TEDTranslation.ipynb",
      "provenance": [],
      "collapsed_sections": [],
      "toc_visible": true,
      "include_colab_link": true
    },
    "kernelspec": {
      "name": "python3",
      "display_name": "Python 3"
    },
    "accelerator": "GPU",
    "widgets": {
      "application/vnd.jupyter.widget-state+json": {
        "748b32c6abde451da5ceee9203144586": {
          "model_module": "@jupyter-widgets/controls",
          "model_name": "DropdownModel",
          "state": {
            "_options_labels": [
              "af",
              "ar",
              "am",
              "ddn",
              "efi",
              "bin",
              "ish",
              "fon",
              "ha",
              "ig",
              "iso",
              "kam",
              "ki",
              "ln",
              "luo",
              "pcm",
              "nso",
              "sn",
              "st",
              "sw",
              "ti",
              "tiv",
              "lua",
              "ts",
              "urh",
              "yo",
              "zu",
              "ve",
              "twi",
              "nr"
            ],
            "_view_name": "DropdownView",
            "style": "IPY_MODEL_6b3c4dc03b9447fc9c7296ec81a1441c",
            "_dom_classes": [],
            "description": "",
            "_model_name": "DropdownModel",
            "index": 28,
            "_view_module": "@jupyter-widgets/controls",
            "_model_module_version": "1.5.0",
            "_view_count": null,
            "disabled": false,
            "_view_module_version": "1.5.0",
            "description_tooltip": null,
            "_model_module": "@jupyter-widgets/controls",
            "layout": "IPY_MODEL_1982d53a9eed49299a695bf8949e5aac"
          }
        },
        "6b3c4dc03b9447fc9c7296ec81a1441c": {
          "model_module": "@jupyter-widgets/controls",
          "model_name": "DescriptionStyleModel",
          "state": {
            "_view_name": "StyleView",
            "_model_name": "DescriptionStyleModel",
            "description_width": "",
            "_view_module": "@jupyter-widgets/base",
            "_model_module_version": "1.5.0",
            "_view_count": null,
            "_view_module_version": "1.2.0",
            "_model_module": "@jupyter-widgets/controls"
          }
        },
        "1982d53a9eed49299a695bf8949e5aac": {
          "model_module": "@jupyter-widgets/base",
          "model_name": "LayoutModel",
          "state": {
            "_view_name": "LayoutView",
            "grid_template_rows": null,
            "right": null,
            "justify_content": null,
            "_view_module": "@jupyter-widgets/base",
            "overflow": null,
            "_model_module_version": "1.2.0",
            "_view_count": null,
            "flex_flow": null,
            "width": null,
            "min_width": null,
            "border": null,
            "align_items": null,
            "bottom": null,
            "_model_module": "@jupyter-widgets/base",
            "top": null,
            "grid_column": null,
            "overflow_y": null,
            "overflow_x": null,
            "grid_auto_flow": null,
            "grid_area": null,
            "grid_template_columns": null,
            "flex": null,
            "_model_name": "LayoutModel",
            "justify_items": null,
            "grid_row": null,
            "max_height": null,
            "align_content": null,
            "visibility": null,
            "align_self": null,
            "height": null,
            "min_height": null,
            "padding": null,
            "grid_auto_rows": null,
            "grid_gap": null,
            "max_width": null,
            "order": null,
            "_view_module_version": "1.2.0",
            "grid_template_areas": null,
            "object_position": null,
            "object_fit": null,
            "grid_auto_columns": null,
            "margin": null,
            "display": null,
            "left": null
          }
        },
        "a8beac07a38f43dbbb2e0fba14d37d32": {
          "model_module": "@jupyter-widgets/output",
          "model_name": "OutputModel",
          "state": {
            "_view_name": "OutputView",
            "msg_id": "",
            "_dom_classes": [],
            "_model_name": "OutputModel",
            "outputs": [
              {
                "output_type": "display_data",
                "metadata": {
                  "tags": []
                },
                "application/vnd.jupyter.widget-view+json": {
                  "model_id": "11d6498306174dd6ab99abf8f653f8d0",
                  "version_minor": 0,
                  "version_major": 2
                },
                "text/plain": "Label(value='Please correct the mistakes in the following translation (1 out of 1520). Delete the proposed tra…"
              },
              {
                "output_type": "display_data",
                "metadata": {
                  "tags": []
                },
                "application/vnd.jupyter.widget-view+json": {
                  "model_id": "e6845f196afc4eef896f9e38392cd9a7",
                  "version_minor": 0,
                  "version_major": 2
                },
                "text/plain": "Textarea(value=\"Reset the three minutes, that's just not fair.\", description='Source', disabled=True, layout=L…"
              },
              {
                "output_type": "display_data",
                "metadata": {
                  "tags": []
                },
                "application/vnd.jupyter.widget-view+json": {
                  "model_id": "09399b9b436d40a1a0726d3e895021a9",
                  "version_minor": 0,
                  "version_major": 2
                },
                "text/plain": "Textarea(value='Hwehwɛ simma abiɛsa no, ɛnyɛ mfomso.', description='Target', layout=Layout(overflow='auto', wi…"
              },
              {
                "output_type": "display_data",
                "metadata": {
                  "tags": []
                },
                "application/vnd.jupyter.widget-view+json": {
                  "model_id": "c5c1fece94944d60aabce71b44f40a4c",
                  "version_minor": 0,
                  "version_major": 2
                },
                "text/plain": "Button(description='Previous Sentence', icon='check', style=ButtonStyle(), tooltip='Click me')"
              },
              {
                "output_type": "display_data",
                "metadata": {
                  "tags": []
                },
                "application/vnd.jupyter.widget-view+json": {
                  "model_id": "898c61efea4e4e9e8d458e1fb32e4dbf",
                  "version_minor": 0,
                  "version_major": 2
                },
                "text/plain": "Button(description='Next Sentence', icon='check', style=ButtonStyle(), tooltip='Click me')"
              }
            ],
            "_view_module": "@jupyter-widgets/output",
            "_model_module_version": "1.0.0",
            "_view_count": null,
            "_view_module_version": "1.0.0",
            "layout": "IPY_MODEL_270be2f369614e0a82badc7ab2549490",
            "_model_module": "@jupyter-widgets/output"
          }
        },
        "11d6498306174dd6ab99abf8f653f8d0": {
          "model_module": "@jupyter-widgets/controls",
          "model_name": "LabelModel",
          "state": {
            "_view_name": "LabelView",
            "style": "IPY_MODEL_76a9f9c5123e44b38594052a5bc2d388",
            "_dom_classes": [],
            "description": "",
            "_model_name": "LabelModel",
            "placeholder": "​",
            "_view_module": "@jupyter-widgets/controls",
            "_model_module_version": "1.5.0",
            "value": "Please correct the mistakes in the following translation (1 out of 1520). Delete the proposed translation if you do not know how to correct or replace it.",
            "_view_count": null,
            "_view_module_version": "1.5.0",
            "description_tooltip": null,
            "_model_module": "@jupyter-widgets/controls",
            "layout": "IPY_MODEL_3dec52bc7b52428ba33abe205893e244"
          }
        },
        "270be2f369614e0a82badc7ab2549490": {
          "model_module": "@jupyter-widgets/base",
          "model_name": "LayoutModel",
          "state": {
            "_view_name": "LayoutView",
            "grid_template_rows": null,
            "right": null,
            "justify_content": null,
            "_view_module": "@jupyter-widgets/base",
            "overflow": null,
            "_model_module_version": "1.2.0",
            "_view_count": null,
            "flex_flow": null,
            "width": null,
            "min_width": null,
            "border": null,
            "align_items": null,
            "bottom": null,
            "_model_module": "@jupyter-widgets/base",
            "top": null,
            "grid_column": null,
            "overflow_y": null,
            "overflow_x": null,
            "grid_auto_flow": null,
            "grid_area": null,
            "grid_template_columns": null,
            "flex": null,
            "_model_name": "LayoutModel",
            "justify_items": null,
            "grid_row": null,
            "max_height": null,
            "align_content": null,
            "visibility": null,
            "align_self": null,
            "height": null,
            "min_height": null,
            "padding": null,
            "grid_auto_rows": null,
            "grid_gap": null,
            "max_width": null,
            "order": null,
            "_view_module_version": "1.2.0",
            "grid_template_areas": null,
            "object_position": null,
            "object_fit": null,
            "grid_auto_columns": null,
            "margin": null,
            "display": null,
            "left": null
          }
        },
        "76a9f9c5123e44b38594052a5bc2d388": {
          "model_module": "@jupyter-widgets/controls",
          "model_name": "DescriptionStyleModel",
          "state": {
            "_view_name": "StyleView",
            "_model_name": "DescriptionStyleModel",
            "description_width": "",
            "_view_module": "@jupyter-widgets/base",
            "_model_module_version": "1.5.0",
            "_view_count": null,
            "_view_module_version": "1.2.0",
            "_model_module": "@jupyter-widgets/controls"
          }
        },
        "3dec52bc7b52428ba33abe205893e244": {
          "model_module": "@jupyter-widgets/base",
          "model_name": "LayoutModel",
          "state": {
            "_view_name": "LayoutView",
            "grid_template_rows": null,
            "right": null,
            "justify_content": null,
            "_view_module": "@jupyter-widgets/base",
            "overflow": null,
            "_model_module_version": "1.2.0",
            "_view_count": null,
            "flex_flow": null,
            "width": null,
            "min_width": null,
            "border": null,
            "align_items": null,
            "bottom": null,
            "_model_module": "@jupyter-widgets/base",
            "top": null,
            "grid_column": null,
            "overflow_y": null,
            "overflow_x": null,
            "grid_auto_flow": null,
            "grid_area": null,
            "grid_template_columns": null,
            "flex": null,
            "_model_name": "LayoutModel",
            "justify_items": null,
            "grid_row": null,
            "max_height": null,
            "align_content": null,
            "visibility": null,
            "align_self": null,
            "height": null,
            "min_height": null,
            "padding": null,
            "grid_auto_rows": null,
            "grid_gap": null,
            "max_width": null,
            "order": null,
            "_view_module_version": "1.2.0",
            "grid_template_areas": null,
            "object_position": null,
            "object_fit": null,
            "grid_auto_columns": null,
            "margin": null,
            "display": null,
            "left": null
          }
        },
        "e6845f196afc4eef896f9e38392cd9a7": {
          "model_module": "@jupyter-widgets/controls",
          "model_name": "TextareaModel",
          "state": {
            "_view_name": "TextareaView",
            "style": "IPY_MODEL_38408928628949069a277d6a888e7586",
            "rows": 5,
            "_dom_classes": [],
            "description": "Source",
            "_model_name": "TextareaModel",
            "placeholder": "​",
            "_view_module": "@jupyter-widgets/controls",
            "_model_module_version": "1.5.0",
            "value": "Reset the three minutes, that's just not fair.",
            "_view_count": null,
            "disabled": true,
            "_view_module_version": "1.5.0",
            "continuous_update": true,
            "description_tooltip": null,
            "_model_module": "@jupyter-widgets/controls",
            "layout": "IPY_MODEL_4a818afaac01434b84550cd4d01cc101"
          }
        },
        "38408928628949069a277d6a888e7586": {
          "model_module": "@jupyter-widgets/controls",
          "model_name": "DescriptionStyleModel",
          "state": {
            "_view_name": "StyleView",
            "_model_name": "DescriptionStyleModel",
            "description_width": "",
            "_view_module": "@jupyter-widgets/base",
            "_model_module_version": "1.5.0",
            "_view_count": null,
            "_view_module_version": "1.2.0",
            "_model_module": "@jupyter-widgets/controls"
          }
        },
        "4a818afaac01434b84550cd4d01cc101": {
          "model_module": "@jupyter-widgets/base",
          "model_name": "LayoutModel",
          "state": {
            "_view_name": "LayoutView",
            "grid_template_rows": null,
            "right": null,
            "justify_content": null,
            "_view_module": "@jupyter-widgets/base",
            "overflow": "auto",
            "_model_module_version": "1.2.0",
            "_view_count": null,
            "flex_flow": null,
            "width": "90%",
            "min_width": null,
            "border": null,
            "align_items": null,
            "bottom": null,
            "_model_module": "@jupyter-widgets/base",
            "top": null,
            "grid_column": null,
            "overflow_y": null,
            "overflow_x": null,
            "grid_auto_flow": null,
            "grid_area": null,
            "grid_template_columns": null,
            "flex": null,
            "_model_name": "LayoutModel",
            "justify_items": null,
            "grid_row": null,
            "max_height": null,
            "align_content": null,
            "visibility": null,
            "align_self": null,
            "height": null,
            "min_height": null,
            "padding": null,
            "grid_auto_rows": null,
            "grid_gap": null,
            "max_width": null,
            "order": null,
            "_view_module_version": "1.2.0",
            "grid_template_areas": null,
            "object_position": null,
            "object_fit": null,
            "grid_auto_columns": null,
            "margin": null,
            "display": null,
            "left": null
          }
        },
        "09399b9b436d40a1a0726d3e895021a9": {
          "model_module": "@jupyter-widgets/controls",
          "model_name": "TextareaModel",
          "state": {
            "_view_name": "TextareaView",
            "style": "IPY_MODEL_590f509533b04f05bd299d5b28c0296e",
            "rows": 5,
            "_dom_classes": [],
            "description": "Target",
            "_model_name": "TextareaModel",
            "placeholder": "​",
            "_view_module": "@jupyter-widgets/controls",
            "_model_module_version": "1.5.0",
            "value": "Hwehwɛ simma abiɛsa no, ɛnyɛ mfomso.",
            "_view_count": null,
            "disabled": false,
            "_view_module_version": "1.5.0",
            "continuous_update": true,
            "description_tooltip": null,
            "_model_module": "@jupyter-widgets/controls",
            "layout": "IPY_MODEL_bbc2ed3d45e649ddbd0ff4ec58ccc911"
          }
        },
        "590f509533b04f05bd299d5b28c0296e": {
          "model_module": "@jupyter-widgets/controls",
          "model_name": "DescriptionStyleModel",
          "state": {
            "_view_name": "StyleView",
            "_model_name": "DescriptionStyleModel",
            "description_width": "",
            "_view_module": "@jupyter-widgets/base",
            "_model_module_version": "1.5.0",
            "_view_count": null,
            "_view_module_version": "1.2.0",
            "_model_module": "@jupyter-widgets/controls"
          }
        },
        "bbc2ed3d45e649ddbd0ff4ec58ccc911": {
          "model_module": "@jupyter-widgets/base",
          "model_name": "LayoutModel",
          "state": {
            "_view_name": "LayoutView",
            "grid_template_rows": null,
            "right": null,
            "justify_content": null,
            "_view_module": "@jupyter-widgets/base",
            "overflow": "auto",
            "_model_module_version": "1.2.0",
            "_view_count": null,
            "flex_flow": null,
            "width": "90%",
            "min_width": null,
            "border": null,
            "align_items": null,
            "bottom": null,
            "_model_module": "@jupyter-widgets/base",
            "top": null,
            "grid_column": null,
            "overflow_y": null,
            "overflow_x": null,
            "grid_auto_flow": null,
            "grid_area": null,
            "grid_template_columns": null,
            "flex": null,
            "_model_name": "LayoutModel",
            "justify_items": null,
            "grid_row": null,
            "max_height": null,
            "align_content": null,
            "visibility": null,
            "align_self": null,
            "height": null,
            "min_height": null,
            "padding": null,
            "grid_auto_rows": null,
            "grid_gap": null,
            "max_width": null,
            "order": null,
            "_view_module_version": "1.2.0",
            "grid_template_areas": null,
            "object_position": null,
            "object_fit": null,
            "grid_auto_columns": null,
            "margin": null,
            "display": null,
            "left": null
          }
        },
        "c5c1fece94944d60aabce71b44f40a4c": {
          "model_module": "@jupyter-widgets/controls",
          "model_name": "ButtonModel",
          "state": {
            "_view_name": "ButtonView",
            "style": "IPY_MODEL_0bc98f5b674345708da934ebd75a6e17",
            "_dom_classes": [],
            "description": "Previous Sentence",
            "_model_name": "ButtonModel",
            "button_style": "",
            "_view_module": "@jupyter-widgets/controls",
            "_model_module_version": "1.5.0",
            "tooltip": "Click me",
            "_view_count": null,
            "disabled": false,
            "_view_module_version": "1.5.0",
            "layout": "IPY_MODEL_a8325d491d6a4f8b8712d01ac789cf3c",
            "_model_module": "@jupyter-widgets/controls",
            "icon": "check"
          }
        },
        "0bc98f5b674345708da934ebd75a6e17": {
          "model_module": "@jupyter-widgets/controls",
          "model_name": "ButtonStyleModel",
          "state": {
            "_view_name": "StyleView",
            "_model_name": "ButtonStyleModel",
            "_view_module": "@jupyter-widgets/base",
            "_model_module_version": "1.5.0",
            "_view_count": null,
            "button_color": null,
            "font_weight": "",
            "_view_module_version": "1.2.0",
            "_model_module": "@jupyter-widgets/controls"
          }
        },
        "a8325d491d6a4f8b8712d01ac789cf3c": {
          "model_module": "@jupyter-widgets/base",
          "model_name": "LayoutModel",
          "state": {
            "_view_name": "LayoutView",
            "grid_template_rows": null,
            "right": null,
            "justify_content": null,
            "_view_module": "@jupyter-widgets/base",
            "overflow": null,
            "_model_module_version": "1.2.0",
            "_view_count": null,
            "flex_flow": null,
            "width": null,
            "min_width": null,
            "border": null,
            "align_items": null,
            "bottom": null,
            "_model_module": "@jupyter-widgets/base",
            "top": null,
            "grid_column": null,
            "overflow_y": null,
            "overflow_x": null,
            "grid_auto_flow": null,
            "grid_area": null,
            "grid_template_columns": null,
            "flex": null,
            "_model_name": "LayoutModel",
            "justify_items": null,
            "grid_row": null,
            "max_height": null,
            "align_content": null,
            "visibility": null,
            "align_self": null,
            "height": null,
            "min_height": null,
            "padding": null,
            "grid_auto_rows": null,
            "grid_gap": null,
            "max_width": null,
            "order": null,
            "_view_module_version": "1.2.0",
            "grid_template_areas": null,
            "object_position": null,
            "object_fit": null,
            "grid_auto_columns": null,
            "margin": null,
            "display": null,
            "left": null
          }
        },
        "898c61efea4e4e9e8d458e1fb32e4dbf": {
          "model_module": "@jupyter-widgets/controls",
          "model_name": "ButtonModel",
          "state": {
            "_view_name": "ButtonView",
            "style": "IPY_MODEL_d9e273bc11a747bf9f4be1a903f7a9a0",
            "_dom_classes": [],
            "description": "Next Sentence",
            "_model_name": "ButtonModel",
            "button_style": "",
            "_view_module": "@jupyter-widgets/controls",
            "_model_module_version": "1.5.0",
            "tooltip": "Click me",
            "_view_count": null,
            "disabled": false,
            "_view_module_version": "1.5.0",
            "layout": "IPY_MODEL_b2a3bf85d09c4cab92ccab9686e34a01",
            "_model_module": "@jupyter-widgets/controls",
            "icon": "check"
          }
        },
        "d9e273bc11a747bf9f4be1a903f7a9a0": {
          "model_module": "@jupyter-widgets/controls",
          "model_name": "ButtonStyleModel",
          "state": {
            "_view_name": "StyleView",
            "_model_name": "ButtonStyleModel",
            "_view_module": "@jupyter-widgets/base",
            "_model_module_version": "1.5.0",
            "_view_count": null,
            "button_color": null,
            "font_weight": "",
            "_view_module_version": "1.2.0",
            "_model_module": "@jupyter-widgets/controls"
          }
        },
        "b2a3bf85d09c4cab92ccab9686e34a01": {
          "model_module": "@jupyter-widgets/base",
          "model_name": "LayoutModel",
          "state": {
            "_view_name": "LayoutView",
            "grid_template_rows": null,
            "right": null,
            "justify_content": null,
            "_view_module": "@jupyter-widgets/base",
            "overflow": null,
            "_model_module_version": "1.2.0",
            "_view_count": null,
            "flex_flow": null,
            "width": null,
            "min_width": null,
            "border": null,
            "align_items": null,
            "bottom": null,
            "_model_module": "@jupyter-widgets/base",
            "top": null,
            "grid_column": null,
            "overflow_y": null,
            "overflow_x": null,
            "grid_auto_flow": null,
            "grid_area": null,
            "grid_template_columns": null,
            "flex": null,
            "_model_name": "LayoutModel",
            "justify_items": null,
            "grid_row": null,
            "max_height": null,
            "align_content": null,
            "visibility": null,
            "align_self": null,
            "height": null,
            "min_height": null,
            "padding": null,
            "grid_auto_rows": null,
            "grid_gap": null,
            "max_width": null,
            "order": null,
            "_view_module_version": "1.2.0",
            "grid_template_areas": null,
            "object_position": null,
            "object_fit": null,
            "grid_auto_columns": null,
            "margin": null,
            "display": null,
            "left": null
          }
        },
        "9c3833bd49e446f4ba491d90149b3c23": {
          "model_module": "@jupyter-widgets/controls",
          "model_name": "TextareaModel",
          "state": {
            "_view_name": "TextareaView",
            "style": "IPY_MODEL_06db16a1b35f4fe0a3b160e70379991c",
            "rows": 5,
            "_dom_classes": [],
            "description": "Feedback",
            "_model_name": "TextareaModel",
            "placeholder": "​",
            "_view_module": "@jupyter-widgets/controls",
            "_model_module_version": "1.5.0",
            "value": "The model had difficulties... ",
            "_view_count": null,
            "disabled": false,
            "_view_module_version": "1.5.0",
            "continuous_update": true,
            "description_tooltip": null,
            "_model_module": "@jupyter-widgets/controls",
            "layout": "IPY_MODEL_b80b4e2f7ada430f9d1cdaf6fccae82f"
          }
        },
        "06db16a1b35f4fe0a3b160e70379991c": {
          "model_module": "@jupyter-widgets/controls",
          "model_name": "DescriptionStyleModel",
          "state": {
            "_view_name": "StyleView",
            "_model_name": "DescriptionStyleModel",
            "description_width": "",
            "_view_module": "@jupyter-widgets/base",
            "_model_module_version": "1.5.0",
            "_view_count": null,
            "_view_module_version": "1.2.0",
            "_model_module": "@jupyter-widgets/controls"
          }
        },
        "b80b4e2f7ada430f9d1cdaf6fccae82f": {
          "model_module": "@jupyter-widgets/base",
          "model_name": "LayoutModel",
          "state": {
            "_view_name": "LayoutView",
            "grid_template_rows": null,
            "right": null,
            "justify_content": null,
            "_view_module": "@jupyter-widgets/base",
            "overflow": "auto",
            "_model_module_version": "1.2.0",
            "_view_count": null,
            "flex_flow": null,
            "width": "90%",
            "min_width": null,
            "border": null,
            "align_items": null,
            "bottom": null,
            "_model_module": "@jupyter-widgets/base",
            "top": null,
            "grid_column": null,
            "overflow_y": null,
            "overflow_x": null,
            "grid_auto_flow": null,
            "grid_area": null,
            "grid_template_columns": null,
            "flex": null,
            "_model_name": "LayoutModel",
            "justify_items": null,
            "grid_row": null,
            "max_height": null,
            "align_content": null,
            "visibility": null,
            "align_self": null,
            "height": null,
            "min_height": null,
            "padding": null,
            "grid_auto_rows": null,
            "grid_gap": null,
            "max_width": null,
            "order": null,
            "_view_module_version": "1.2.0",
            "grid_template_areas": null,
            "object_position": null,
            "object_fit": null,
            "grid_auto_columns": null,
            "margin": null,
            "display": null,
            "left": null
          }
        }
      }
    }
  },
  "cells": [
    {
      "cell_type": "markdown",
      "metadata": {
        "id": "view-in-github",
        "colab_type": "text"
      },
      "source": [
        "<a href=\"https://colab.research.google.com/github/juliakreutzer/masakhane-eval/blob/master/TEDTranslation.ipynb\" target=\"_parent\"><img src=\"https://colab.research.google.com/assets/colab-badge.svg\" alt=\"Open In Colab\"/></a>"
      ]
    },
    {
      "cell_type": "markdown",
      "metadata": {
        "id": "AtMM6ucBScjd",
        "colab_type": "text"
      },
      "source": [
        "# TED Talk Translation with Masakhane Models\n",
        "\n",
        "This notebook will load a Masakhane Joey NMT model for your selected language, will translate parts of [TED talks](https://www.ted.com/talks), taken from the multi-target test sets composed [here](http://www.cs.jhu.edu/~kevinduh/a/multitarget-tedtalks/) and then present it to you. \n",
        "\n",
        "- Connect to a GPU runtime for fast translations: In the menu, select 'Runtime' -> 'Change Runtime Type' -> 'Hardware Accelarator' -> select 'GPU'.\n",
        "- Please go through and *execute this notebook cell by cell*. Sometimes cells seem to be empty because the code is hidden. Please execute them anyway. \n",
        "- Proceed  until you come to *the post-editing part* where you will be asked to provide your correction to the models' translations. \n",
        "- Note that intermediate process won't get saved if the runtime disconnects in the meantime, so make sure you *save the output before you take a break*. You can do that by executing the parts below the post-edit cell *until you've downloaded the files*, and then later indicate the sentence number where you want to resume. \n",
        "    - For example, you want to do the first 5 sentences now, the next 5 tomorrow. \n",
        "    - Set `start_sent` today to 1, continue with post-editing until you have finished the 5th sentence, and complete the notebook and download the files. \n",
        "    - Tomorrow, set `start_sent` to 6 and continue until 10, and so on.\n",
        "- If you don't know how to translate or correct a sentence, please just give an empty translation as answer.\n",
        "- If any cells reports an error message that does not let you continue, please take a screenshot and email it to kreutzer@cl.uni-heidelberg.de.\n",
        "- At the very end, you'll be asked to *download* the created translation files and *send it via email*. \n",
        "\n",
        "**Thank you for your time! <3**"
      ]
    },
    {
      "cell_type": "markdown",
      "metadata": {
        "id": "R9rBMwIXJQsP",
        "colab_type": "text"
      },
      "source": [
        "## Getting Ready"
      ]
    },
    {
      "cell_type": "code",
      "metadata": {
        "id": "dBd6C_JbLdV2",
        "colab_type": "code",
        "cellView": "form",
        "colab": {
          "base_uri": "https://localhost:8080/",
          "height": 1000
        },
        "outputId": "f50f9282-2ada-4f89-d67c-ca9056ede6a9"
      },
      "source": [
        "#@title Installation\n",
        "\n",
        "! pip3 install gdown --quiet\n",
        "! pip3 install polyglot --quiet\n",
        "! pip3 install pyicu --quiet\n",
        "! pip3 install pycld2 --quiet\n",
        "! pip3 install morfessor --quiet\n",
        "! pip3 install pyter3 --quiet\n",
        "\n",
        "! pip3 install joeynmt\n"
      ],
      "execution_count": 1,
      "outputs": [
        {
          "output_type": "stream",
          "text": [
            "Requirement already satisfied: joeynmt in /usr/local/lib/python3.6/dist-packages (0.0.1)\n",
            "Requirement already satisfied: six==1.12 in /usr/local/lib/python3.6/dist-packages (from joeynmt) (1.12.0)\n",
            "Requirement already satisfied: wrapt==1.11.1 in /usr/local/lib/python3.6/dist-packages (from joeynmt) (1.11.1)\n",
            "Requirement already satisfied: matplotlib in /usr/local/lib/python3.6/dist-packages (from joeynmt) (3.2.2)\n",
            "Requirement already satisfied: torch>=1.1 in /usr/local/lib/python3.6/dist-packages (from joeynmt) (1.5.1+cu101)\n",
            "Requirement already satisfied: future in /usr/local/lib/python3.6/dist-packages (from joeynmt) (0.16.0)\n",
            "Requirement already satisfied: tensorflow>=1.14 in /usr/local/lib/python3.6/dist-packages (from joeynmt) (2.2.0)\n",
            "Requirement already satisfied: torchtext in /usr/local/lib/python3.6/dist-packages (from joeynmt) (0.3.1)\n",
            "Requirement already satisfied: pylint in /usr/local/lib/python3.6/dist-packages (from joeynmt) (2.5.3)\n",
            "Requirement already satisfied: subword-nmt in /usr/local/lib/python3.6/dist-packages (from joeynmt) (0.3.7)\n",
            "Requirement already satisfied: pillow in /usr/local/lib/python3.6/dist-packages (from joeynmt) (7.0.0)\n",
            "Requirement already satisfied: sacrebleu>=1.3.6 in /usr/local/lib/python3.6/dist-packages (from joeynmt) (1.4.12)\n",
            "Requirement already satisfied: setuptools>=41.0.0 in /usr/local/lib/python3.6/dist-packages (from joeynmt) (49.1.0)\n",
            "Requirement already satisfied: seaborn in /usr/local/lib/python3.6/dist-packages (from joeynmt) (0.10.1)\n",
            "Requirement already satisfied: pyyaml>=5.1 in /usr/local/lib/python3.6/dist-packages (from joeynmt) (5.3.1)\n",
            "Requirement already satisfied: numpy<2.0,>=1.14.5 in /usr/local/lib/python3.6/dist-packages (from joeynmt) (1.18.5)\n",
            "Requirement already satisfied: cycler>=0.10 in /usr/local/lib/python3.6/dist-packages (from matplotlib->joeynmt) (0.10.0)\n",
            "Requirement already satisfied: python-dateutil>=2.1 in /usr/local/lib/python3.6/dist-packages (from matplotlib->joeynmt) (2.8.1)\n",
            "Requirement already satisfied: pyparsing!=2.0.4,!=2.1.2,!=2.1.6,>=2.0.1 in /usr/local/lib/python3.6/dist-packages (from matplotlib->joeynmt) (2.4.7)\n",
            "Requirement already satisfied: kiwisolver>=1.0.1 in /usr/local/lib/python3.6/dist-packages (from matplotlib->joeynmt) (1.2.0)\n",
            "Requirement already satisfied: grpcio>=1.8.6 in /usr/local/lib/python3.6/dist-packages (from tensorflow>=1.14->joeynmt) (1.30.0)\n",
            "Requirement already satisfied: google-pasta>=0.1.8 in /usr/local/lib/python3.6/dist-packages (from tensorflow>=1.14->joeynmt) (0.2.0)\n",
            "Requirement already satisfied: protobuf>=3.8.0 in /usr/local/lib/python3.6/dist-packages (from tensorflow>=1.14->joeynmt) (3.12.2)\n",
            "Requirement already satisfied: wheel>=0.26; python_version >= \"3\" in /usr/local/lib/python3.6/dist-packages (from tensorflow>=1.14->joeynmt) (0.34.2)\n",
            "Requirement already satisfied: tensorflow-estimator<2.3.0,>=2.2.0 in /usr/local/lib/python3.6/dist-packages (from tensorflow>=1.14->joeynmt) (2.2.0)\n",
            "Requirement already satisfied: opt-einsum>=2.3.2 in /usr/local/lib/python3.6/dist-packages (from tensorflow>=1.14->joeynmt) (3.3.0)\n",
            "Requirement already satisfied: scipy==1.4.1; python_version >= \"3\" in /usr/local/lib/python3.6/dist-packages (from tensorflow>=1.14->joeynmt) (1.4.1)\n",
            "Requirement already satisfied: absl-py>=0.7.0 in /usr/local/lib/python3.6/dist-packages (from tensorflow>=1.14->joeynmt) (0.9.0)\n",
            "Requirement already satisfied: gast==0.3.3 in /usr/local/lib/python3.6/dist-packages (from tensorflow>=1.14->joeynmt) (0.3.3)\n",
            "Requirement already satisfied: termcolor>=1.1.0 in /usr/local/lib/python3.6/dist-packages (from tensorflow>=1.14->joeynmt) (1.1.0)\n",
            "Requirement already satisfied: keras-preprocessing>=1.1.0 in /usr/local/lib/python3.6/dist-packages (from tensorflow>=1.14->joeynmt) (1.1.2)\n",
            "Requirement already satisfied: tensorboard<2.3.0,>=2.2.0 in /usr/local/lib/python3.6/dist-packages (from tensorflow>=1.14->joeynmt) (2.2.2)\n",
            "Requirement already satisfied: astunparse==1.6.3 in /usr/local/lib/python3.6/dist-packages (from tensorflow>=1.14->joeynmt) (1.6.3)\n",
            "Requirement already satisfied: h5py<2.11.0,>=2.10.0 in /usr/local/lib/python3.6/dist-packages (from tensorflow>=1.14->joeynmt) (2.10.0)\n",
            "Requirement already satisfied: tqdm in /usr/local/lib/python3.6/dist-packages (from torchtext->joeynmt) (4.41.1)\n",
            "Requirement already satisfied: requests in /usr/local/lib/python3.6/dist-packages (from torchtext->joeynmt) (2.23.0)\n",
            "Requirement already satisfied: toml>=0.7.1 in /usr/local/lib/python3.6/dist-packages (from pylint->joeynmt) (0.10.1)\n",
            "Requirement already satisfied: isort<5,>=4.2.5 in /usr/local/lib/python3.6/dist-packages (from pylint->joeynmt) (4.3.21)\n",
            "Requirement already satisfied: astroid<=2.5,>=2.4.0 in /usr/local/lib/python3.6/dist-packages (from pylint->joeynmt) (2.4.2)\n",
            "Requirement already satisfied: mccabe<0.7,>=0.6 in /usr/local/lib/python3.6/dist-packages (from pylint->joeynmt) (0.6.1)\n",
            "Requirement already satisfied: mecab-python3==0.996.5 in /usr/local/lib/python3.6/dist-packages (from sacrebleu>=1.3.6->joeynmt) (0.996.5)\n",
            "Requirement already satisfied: portalocker in /usr/local/lib/python3.6/dist-packages (from sacrebleu>=1.3.6->joeynmt) (1.7.1)\n",
            "Requirement already satisfied: pandas>=0.22.0 in /usr/local/lib/python3.6/dist-packages (from seaborn->joeynmt) (1.0.5)\n",
            "Requirement already satisfied: tensorboard-plugin-wit>=1.6.0 in /usr/local/lib/python3.6/dist-packages (from tensorboard<2.3.0,>=2.2.0->tensorflow>=1.14->joeynmt) (1.7.0)\n",
            "Requirement already satisfied: google-auth-oauthlib<0.5,>=0.4.1 in /usr/local/lib/python3.6/dist-packages (from tensorboard<2.3.0,>=2.2.0->tensorflow>=1.14->joeynmt) (0.4.1)\n",
            "Requirement already satisfied: markdown>=2.6.8 in /usr/local/lib/python3.6/dist-packages (from tensorboard<2.3.0,>=2.2.0->tensorflow>=1.14->joeynmt) (3.2.2)\n",
            "Requirement already satisfied: google-auth<2,>=1.6.3 in /usr/local/lib/python3.6/dist-packages (from tensorboard<2.3.0,>=2.2.0->tensorflow>=1.14->joeynmt) (1.17.2)\n",
            "Requirement already satisfied: werkzeug>=0.11.15 in /usr/local/lib/python3.6/dist-packages (from tensorboard<2.3.0,>=2.2.0->tensorflow>=1.14->joeynmt) (1.0.1)\n",
            "Requirement already satisfied: urllib3!=1.25.0,!=1.25.1,<1.26,>=1.21.1 in /usr/local/lib/python3.6/dist-packages (from requests->torchtext->joeynmt) (1.24.3)\n",
            "Requirement already satisfied: idna<3,>=2.5 in /usr/local/lib/python3.6/dist-packages (from requests->torchtext->joeynmt) (2.10)\n",
            "Requirement already satisfied: chardet<4,>=3.0.2 in /usr/local/lib/python3.6/dist-packages (from requests->torchtext->joeynmt) (3.0.4)\n",
            "Requirement already satisfied: certifi>=2017.4.17 in /usr/local/lib/python3.6/dist-packages (from requests->torchtext->joeynmt) (2020.6.20)\n",
            "Requirement already satisfied: lazy-object-proxy==1.4.* in /usr/local/lib/python3.6/dist-packages (from astroid<=2.5,>=2.4.0->pylint->joeynmt) (1.4.3)\n",
            "Requirement already satisfied: typed-ast<1.5,>=1.4.0; implementation_name == \"cpython\" and python_version < \"3.8\" in /usr/local/lib/python3.6/dist-packages (from astroid<=2.5,>=2.4.0->pylint->joeynmt) (1.4.1)\n",
            "Requirement already satisfied: pytz>=2017.2 in /usr/local/lib/python3.6/dist-packages (from pandas>=0.22.0->seaborn->joeynmt) (2018.9)\n",
            "Requirement already satisfied: requests-oauthlib>=0.7.0 in /usr/local/lib/python3.6/dist-packages (from google-auth-oauthlib<0.5,>=0.4.1->tensorboard<2.3.0,>=2.2.0->tensorflow>=1.14->joeynmt) (1.3.0)\n",
            "Requirement already satisfied: importlib-metadata; python_version < \"3.8\" in /usr/local/lib/python3.6/dist-packages (from markdown>=2.6.8->tensorboard<2.3.0,>=2.2.0->tensorflow>=1.14->joeynmt) (1.7.0)\n",
            "Requirement already satisfied: cachetools<5.0,>=2.0.0 in /usr/local/lib/python3.6/dist-packages (from google-auth<2,>=1.6.3->tensorboard<2.3.0,>=2.2.0->tensorflow>=1.14->joeynmt) (4.1.1)\n",
            "Requirement already satisfied: pyasn1-modules>=0.2.1 in /usr/local/lib/python3.6/dist-packages (from google-auth<2,>=1.6.3->tensorboard<2.3.0,>=2.2.0->tensorflow>=1.14->joeynmt) (0.2.8)\n",
            "Requirement already satisfied: rsa<5,>=3.1.4; python_version >= \"3\" in /usr/local/lib/python3.6/dist-packages (from google-auth<2,>=1.6.3->tensorboard<2.3.0,>=2.2.0->tensorflow>=1.14->joeynmt) (4.6)\n",
            "Requirement already satisfied: oauthlib>=3.0.0 in /usr/local/lib/python3.6/dist-packages (from requests-oauthlib>=0.7.0->google-auth-oauthlib<0.5,>=0.4.1->tensorboard<2.3.0,>=2.2.0->tensorflow>=1.14->joeynmt) (3.1.0)\n",
            "Requirement already satisfied: zipp>=0.5 in /usr/local/lib/python3.6/dist-packages (from importlib-metadata; python_version < \"3.8\"->markdown>=2.6.8->tensorboard<2.3.0,>=2.2.0->tensorflow>=1.14->joeynmt) (3.1.0)\n",
            "Requirement already satisfied: pyasn1<0.5.0,>=0.4.6 in /usr/local/lib/python3.6/dist-packages (from pyasn1-modules>=0.2.1->google-auth<2,>=1.6.3->tensorboard<2.3.0,>=2.2.0->tensorflow>=1.14->joeynmt) (0.4.8)\n"
          ],
          "name": "stdout"
        }
      ]
    },
    {
      "cell_type": "code",
      "metadata": {
        "id": "_p4R_UmKIJZL",
        "colab_type": "code",
        "cellView": "form",
        "colab": {}
      },
      "source": [
        "#@title Imports\n",
        "\n",
        "import os\n",
        "import re\n",
        "import yaml\n",
        "import sacrebleu\n",
        "import numpy as np\n",
        "import pandas as pd\n",
        "import functools\n",
        "import pyter\n",
        "import ipywidgets as widgets\n",
        "from IPython.display import display\n",
        "from polyglot.text import Text\n",
        "from subword_nmt import apply_bpe"
      ],
      "execution_count": 2,
      "outputs": []
    },
    {
      "cell_type": "markdown",
      "metadata": {
        "id": "iuZUEx1tJ2ni",
        "colab_type": "text"
      },
      "source": [
        "## Model Preparation"
      ]
    },
    {
      "cell_type": "code",
      "metadata": {
        "id": "g6_UiKZcJPui",
        "colab_type": "code",
        "cellView": "form",
        "colab": {
          "base_uri": "https://localhost:8080/",
          "height": 85,
          "referenced_widgets": [
            "748b32c6abde451da5ceee9203144586",
            "6b3c4dc03b9447fc9c7296ec81a1441c",
            "1982d53a9eed49299a695bf8949e5aac"
          ]
        },
        "outputId": "2a6ac02b-d48a-4bbd-cc61-5e97fa5f0410"
      },
      "source": [
        "#@title Target language selection\n",
        "\n",
        "from joeynmt.helpers import load_config\n",
        "\n",
        "class MasakhaneModelLoader():\n",
        "\n",
        "  def __init__(self, available_models_file):\n",
        "    self._model_dir_prefix = 'joeynmt/models/'\n",
        "    self._src_language = ''\n",
        "    self.models = self.load_available_models(available_models_file)\n",
        "  \n",
        "  def load_available_models(self, available_models_file, \n",
        "                            src_language='en', domain='JW300'):\n",
        "    # Get list of available models.\n",
        "    # If multiple models: select domain. \n",
        "    # Only select relevant models with correct src language.\n",
        "    models = {}\n",
        "    with open(available_models_file, 'r') as ofile:\n",
        "      for i, line in enumerate(ofile):\n",
        "        entries = line.strip().split(\"\\t\")\n",
        "        if i == 0:\n",
        "          headers = entries\n",
        "          header_keys = [h.__str__() for h in headers]\n",
        "          continue\n",
        "        model = {h: v for h, v in zip(header_keys, entries)}\n",
        "        if model['src_language'] != src_language or model['complete'] != 'yes':\n",
        "          continue\n",
        "        if model['trg_language'] in models.keys() and model['domain'] != domain:\n",
        "          continue\n",
        "        models[model['trg_language']] = model\n",
        "    print('Found {} Masakhane models.'.format(len(models)))\n",
        "    self._model_dir_prefix += src_language\n",
        "    self._src_language = src_language\n",
        "    return models\n",
        "  \n",
        "  def download_model(self, trg_language):\n",
        "    \"\"\" Download model for given trg language. \"\"\"\n",
        "    model_dir = \"{}-{}\".format(self._model_dir_prefix, trg_language)\n",
        "    !mkdir -p $model_dir\n",
        "    model_files = self.models[trg_language]\n",
        "    # Download the checkpoint.\n",
        "    ckpt_path = os.path.join(model_dir, 'model.ckpt')\n",
        "    self._download(model_files['ckpt'], ckpt_path)\n",
        "    # Download the vocabularies.\n",
        "    src_vocab_file = model_files['src_vocab']\n",
        "    trg_vocab_file = model_files['trg_vocab']\n",
        "    src_vocab_path = os.path.join(model_dir, 'src_vocab.txt')\n",
        "    self._download(src_vocab_file, src_vocab_path)\n",
        "    trg_vocab_path = os.path.join(model_dir, 'trg_vocab.txt')\n",
        "    self._download(trg_vocab_file, trg_vocab_path)\n",
        "    # Download the config.\n",
        "    config_file = model_files['config.yaml']\n",
        "    config_path = os.path.join(model_dir, 'config_orig.yaml')\n",
        "    self._download(config_file, config_path)\n",
        "    # Adjust config.\n",
        "    config = load_config(config_path)\n",
        "    new_config_file = os.path.join(model_dir, 'config.yaml')\n",
        "    config = self._update_config(config, src_vocab_path, trg_vocab_path,\n",
        "                                 model_dir, ckpt_path)\n",
        "    with open(new_config_file, 'w') as cfile:\n",
        "      yaml.dump(config, cfile)\n",
        "    # Download BPE codes.\n",
        "    src_bpe_path = os.path.join(model_dir, 'src.bpe.model')\n",
        "    trg_bpe_path = os.path.join(model_dir, 'trg.bpe.model')\n",
        "    self._download(model_files['src_bpe'], src_bpe_path)\n",
        "    self._download(model_files['trg_bpe'], trg_bpe_path)\n",
        "    print('Downloaded model for {}-{}.'.format(self._src_language, trg_language))\n",
        "    return model_dir, config, self._is_lc(src_vocab_path)\n",
        "\n",
        "  def _update_config(self, config, new_src_vocab_path, new_trg_vocab_path,\n",
        "                     new_model_dir, new_ckpt_path):\n",
        "    \"\"\"Overwrite the settings in the given config.\"\"\"\n",
        "    config['data']['src_vocab'] = new_src_vocab_path\n",
        "    if config['model'].get('tied_embeddings', False):\n",
        "      config['data']['trg_vocab'] = new_src_vocab_path\n",
        "    else:\n",
        "      config['data']['trg_vocab'] = new_trg_vocab_path\n",
        "    config['training']['model_dir'] = new_model_dir\n",
        "    config['training']['load_model'] = new_ckpt_path\n",
        "    return config\n",
        "\n",
        "  def _is_lc(self, src_vocab_path):\n",
        "    # Infer whether the model is built on lowercased data.\n",
        "    lc = True\n",
        "    with open(src_vocab_path, 'r') as ofile:\n",
        "      for line in ofile:\n",
        "        if line != line.lower():\n",
        "          lc = False\n",
        "          break\n",
        "    return lc\n",
        "\n",
        "  def _download_gdrive_file(self, file_id, destination):\n",
        "    \"\"\"Download a file from Google Drive and store in local file.\"\"\"\n",
        "    download_link = 'https://drive.google.com/uc?id={}'.format(file_id)\n",
        "    !gdown -q -O $destination $download_link\n",
        "\n",
        "  def _download_github_file(self, github_raw_path, destination):\n",
        "    \"\"\"Download a file from GitHub.\"\"\"\n",
        "    ! wget -q -O $destination $github_raw_path\n",
        "\n",
        "  def _download(self, url, destination):\n",
        "    \"\"\"Download file from Github or Googledrive.\"\"\"\n",
        "    try:\n",
        "      if 'drive.google.com' in url:\n",
        "        if url.startswith('https://drive.google.com/file'):\n",
        "          file_id = url.split(\"/\")[-1]\n",
        "        elif url.startswith('https://drive.google.com/open?'):\n",
        "          file_id = url.split('id=')[-1]\n",
        "        self._download_gdrive_file(file_id, destination)\n",
        "      else:\n",
        "        self._download_github_file(url, destination)\n",
        "    except:\n",
        "      print(\"Download failed, didn't recognize url {}.\".format(url))\n",
        "\n",
        "available_models_file = 'available_models.tsv'\n",
        "! wget -q -O $available_models_file https://raw.githubusercontent.com/juliakreutzer/masakhane-covid/master/models/available_models.tsv\n",
        "\n",
        "model_loader = MasakhaneModelLoader(available_models_file=available_models_file)\n",
        "\n",
        "import ipywidgets as widgets\n",
        "print('Please select a target language.')\n",
        "lang_picker = widgets.Dropdown(options=model_loader.models.keys(), value='yo')\n",
        "lang_picker"
      ],
      "execution_count": 3,
      "outputs": [
        {
          "output_type": "stream",
          "text": [
            "Found 30 Masakhane models.\n",
            "Please select a target language.\n"
          ],
          "name": "stdout"
        },
        {
          "output_type": "display_data",
          "data": {
            "application/vnd.jupyter.widget-view+json": {
              "model_id": "748b32c6abde451da5ceee9203144586",
              "version_minor": 0,
              "version_major": 2
            },
            "text/plain": [
              "Dropdown(index=25, options=('af', 'ar', 'am', 'ddn', 'efi', 'bin', 'ish', 'fon', 'ha', 'ig', 'iso', 'kam', 'ki…"
            ]
          },
          "metadata": {
            "tags": []
          }
        }
      ]
    },
    {
      "cell_type": "code",
      "metadata": {
        "id": "-anABmsgKHH3",
        "colab_type": "code",
        "cellView": "form",
        "colab": {
          "base_uri": "https://localhost:8080/",
          "height": 35
        },
        "outputId": "3ff6cffa-814b-4598-be43-d6b4b1fee54a"
      },
      "source": [
        "#@title Model download \n",
        "language = lang_picker.value\n",
        "model_dir, config, lc = model_loader.download_model(language)"
      ],
      "execution_count": 4,
      "outputs": [
        {
          "output_type": "stream",
          "text": [
            "Downloaded model for en-twi.\n"
          ],
          "name": "stdout"
        }
      ]
    },
    {
      "cell_type": "code",
      "metadata": {
        "id": "7o6Vb6ohdk7t",
        "colab_type": "code",
        "cellView": "form",
        "colab": {
          "base_uri": "https://localhost:8080/",
          "height": 73
        },
        "outputId": "a233d8d0-2d0c-4a47-917a-a18a9393730f"
      },
      "source": [
        "#@title Test loaded model\n",
        "# Try if this works: this should not lead to an error message. \n",
        "! echo \"Test.\\nAnd again.\" > test.txt\n",
        "new_config_path = os.path.join(model_dir, 'config.yaml')\n",
        "! python -m joeynmt translate $new_config_path < test.txt > test_out.txt"
      ],
      "execution_count": 5,
      "outputs": [
        {
          "output_type": "stream",
          "text": [
            "2020-07-30 04:57:00,103 Hello! This is Joey-NMT.\n",
            "/pytorch/aten/src/ATen/native/BinaryOps.cpp:81: UserWarning: Integer division of tensors using div or / is deprecated, and in a future release div will perform true division as in Python 3. Use true_divide or floor_divide (// in Python) instead.\n"
          ],
          "name": "stdout"
        }
      ]
    },
    {
      "cell_type": "markdown",
      "metadata": {
        "id": "XPbnl7p0oYAC",
        "colab_type": "text"
      },
      "source": [
        "If the above cell failed, something is wrong with the translation model. Please do not proceed, but email Julia instead with the error message."
      ]
    },
    {
      "cell_type": "markdown",
      "metadata": {
        "id": "zrPPCopYg3GQ",
        "colab_type": "text"
      },
      "source": [
        "## TED Data\n",
        "\n",
        "Now we're loading the data to translate."
      ]
    },
    {
      "cell_type": "code",
      "metadata": {
        "id": "xnrL4uPwgzlp",
        "colab_type": "code",
        "cellView": "form",
        "colab": {
          "base_uri": "https://localhost:8080/",
          "height": 71
        },
        "outputId": "443c7b40-d399-41e3-a180-3d382876be01"
      },
      "source": [
        "#@title Load the source\n",
        "\n",
        "class SourceData():\n",
        "  def __init__(self, data_link, bpe_path, out_file):\n",
        "    self._src_df = pd.read_csv(data_link, sep='\\t', header=None,\n",
        "                               names=['source'])\n",
        "    print(\"Loaded {} lines.\".format(len(self._src_df)))\n",
        "    self._bpe_model = self.load_bpe(bpe_path)\n",
        "    self._src_df, self._sources = self.preprocess(out_file)\n",
        "  \n",
        "  def get_df(self):\n",
        "    return self._src_df\n",
        "  \n",
        "  def get_sources(self):\n",
        "    return self._sources\n",
        "\n",
        "  def preprocess(self, out_file):\n",
        "    \"\"\"Tokenize, (lowercase,) sub-word split.\n",
        "    \n",
        "    Using Polyglot since it was used for JW300.\n",
        "    Preprocess the source column of a dataframe object and write to file.\n",
        "  \n",
        "    Pipeline:\n",
        "    - tokenize\n",
        "    - split into sub-words\n",
        "\n",
        "    Append pre-processed sources to dataframe.\"\"\"\n",
        "    tokenized_sentences = []\n",
        "    bped_sentences = []\n",
        "    sources = []\n",
        "    with open(out_file, 'w') as ofile:\n",
        "      for i, row in self._src_df.iterrows():\n",
        "        sentence_i = Text(row[0]).sentences[0]\n",
        "        tokenized_sentence = \"\"\n",
        "        bped_sentence = \"\"\n",
        "        tokenized = \" \".join(sentence_i.words)\n",
        "        sources.append(str(sentence_i))\n",
        "        if lc:\n",
        "          tokenized = tokenized.lower()\n",
        "        tokenized_sentence = tokenized\n",
        "        bped = self._bpe_model.process_line(tokenized)\n",
        "        bped_sentence = bped\n",
        "        ofile.write(\"{}\\n\".format(bped))\n",
        "        tokenized_sentences.append(tokenized_sentence)\n",
        "        bped_sentences.append(bped_sentence)\n",
        "    data = self._src_df.assign(\n",
        "        tokenized_sentences=tokenized_sentences)\n",
        "    data = data.assign(\n",
        "        bped_sentences=bped_sentences)\n",
        "    return data, sources\n",
        "\n",
        "  def load_bpe(self, bpe_path):\n",
        "    with open(bpe_path, 'r') as ofile:\n",
        "      bpe_model = apply_bpe.BPE(codes=ofile)\n",
        "    return bpe_model\n",
        "  \n",
        "src_input_file = 'src_input.bpe.txt'\n",
        "src_bpe_path = os.path.join(model_dir, 'src.bpe.model')\n",
        "ted_link = 'https://raw.githubusercontent.com/juliakreutzer/masakhane-eval/master/data/multitarget-ted-filt.en.tsv'\n",
        "src_data = SourceData(ted_link, bpe_path=src_bpe_path, out_file=src_input_file)\n",
        "sources = src_data.get_sources()\n",
        "ted_df = src_data.get_df()\n",
        "! sed 's/@@ //g' $src_input_file > src_input.txt"
      ],
      "execution_count": 6,
      "outputs": [
        {
          "output_type": "stream",
          "text": [
            "Loaded 1520 lines.\n"
          ],
          "name": "stdout"
        },
        {
          "output_type": "stream",
          "text": [
            "Detector is not able to detect the language reliably.\n",
            "Detector is not able to detect the language reliably.\n"
          ],
          "name": "stderr"
        }
      ]
    },
    {
      "cell_type": "code",
      "metadata": {
        "id": "3KrfE3Uaw2TO",
        "colab_type": "code",
        "cellView": "form",
        "colab": {
          "base_uri": "https://localhost:8080/",
          "height": 142
        },
        "outputId": "ab44503a-731b-4df5-fbc5-284103c84392"
      },
      "source": [
        "#@title Source excerpt\n",
        "ted_df[:3]"
      ],
      "execution_count": 7,
      "outputs": [
        {
          "output_type": "execute_result",
          "data": {
            "text/html": [
              "<div>\n",
              "<style scoped>\n",
              "    .dataframe tbody tr th:only-of-type {\n",
              "        vertical-align: middle;\n",
              "    }\n",
              "\n",
              "    .dataframe tbody tr th {\n",
              "        vertical-align: top;\n",
              "    }\n",
              "\n",
              "    .dataframe thead th {\n",
              "        text-align: right;\n",
              "    }\n",
              "</style>\n",
              "<table border=\"1\" class=\"dataframe\">\n",
              "  <thead>\n",
              "    <tr style=\"text-align: right;\">\n",
              "      <th></th>\n",
              "      <th>source</th>\n",
              "      <th>tokenized_sentences</th>\n",
              "      <th>bped_sentences</th>\n",
              "    </tr>\n",
              "  </thead>\n",
              "  <tbody>\n",
              "    <tr>\n",
              "      <th>0</th>\n",
              "      <td>Reset the three minutes, that's just not fair.</td>\n",
              "      <td>Reset the three minutes , that's just not fair .</td>\n",
              "      <td>R@@ es@@ et the three min@@ ut@@ es , th@@ at@...</td>\n",
              "    </tr>\n",
              "    <tr>\n",
              "      <th>1</th>\n",
              "      <td>I mean I'm nervous enough as it is.</td>\n",
              "      <td>I mean I'm nervous enough as it is .</td>\n",
              "      <td>I mean I@@ '@@ m n@@ er@@ v@@ ous enough as it...</td>\n",
              "    </tr>\n",
              "    <tr>\n",
              "      <th>2</th>\n",
              "      <td>But I am not as nervous as I was five weeks ago.</td>\n",
              "      <td>But I am not as nervous as I was five weeks ago .</td>\n",
              "      <td>But I am not as n@@ er@@ v@@ ous as I was five...</td>\n",
              "    </tr>\n",
              "  </tbody>\n",
              "</table>\n",
              "</div>"
            ],
            "text/plain": [
              "                                             source  ...                                     bped_sentences\n",
              "0    Reset the three minutes, that's just not fair.  ...  R@@ es@@ et the three min@@ ut@@ es , th@@ at@...\n",
              "1               I mean I'm nervous enough as it is.  ...  I mean I@@ '@@ m n@@ er@@ v@@ ous enough as it...\n",
              "2  But I am not as nervous as I was five weeks ago.  ...  But I am not as n@@ er@@ v@@ ous as I was five...\n",
              "\n",
              "[3 rows x 3 columns]"
            ]
          },
          "metadata": {
            "tags": []
          },
          "execution_count": 7
        }
      ]
    },
    {
      "cell_type": "code",
      "metadata": {
        "id": "jze2YpP1_wXy",
        "colab_type": "code",
        "cellView": "form",
        "colab": {
          "base_uri": "https://localhost:8080/",
          "height": 109
        },
        "outputId": "af73a292-07ff-47e0-e93f-fbbb270673a5"
      },
      "source": [
        "#@title Translation with Joey NMT - it can take a few minutes.\n",
        "trg_output_file = 'targets.txt'\n",
        "print('Translating...')\n",
        "! python -m joeynmt translate $model_dir/config.yaml < $src_input_file > $trg_output_file\n",
        "\n",
        "# Post-processing\n",
        "def post_process(output_file):\n",
        "  \"\"\"Load and detokenize translations.\n",
        "  \n",
        "  There is no given Polyglot detokenizer, so we do it by heuristics.\n",
        "  \"\"\"\n",
        "  targets = []\n",
        "  with open(trg_output_file, 'r') as ofile:\n",
        "    for line in ofile:\n",
        "      sent = line.strip()\n",
        "      sent = sent.replace('<pad>', '')\n",
        "      sent = re.sub(r'\\s+([?.!\"-,:’])', r'\\1', sent)\n",
        "      sent = sent.replace('( ', '(').replace(' - ', '-').replace(' / ', '/').replace(' /', '/')\n",
        "      if lc:\n",
        "        # Cheap casing restoration... only first character but better than nothing.\n",
        "        sent = sent[0].upper() + sent[1:]\n",
        "      targets.append(sent)\n",
        "  return targets\n",
        "\n",
        "targets = post_process(trg_output_file)\n",
        "\n",
        "print('Done!')"
      ],
      "execution_count": 8,
      "outputs": [
        {
          "output_type": "stream",
          "text": [
            "Translating...\n",
            "2020-07-30 05:01:07,534 Hello! This is Joey-NMT.\n",
            "/pytorch/aten/src/ATen/native/BinaryOps.cpp:81: UserWarning: Integer division of tensors using div or / is deprecated, and in a future release div will perform true division as in Python 3. Use true_divide or floor_divide (// in Python) instead.\n",
            "Done!\n"
          ],
          "name": "stdout"
        }
      ]
    },
    {
      "cell_type": "markdown",
      "metadata": {
        "id": "cAfIIAVvF-Qi",
        "colab_type": "text"
      },
      "source": [
        "## Post-edit\n",
        "Let's correct the model's mistakes. Please correct the translations and click on \"Next Sentence\" until you've done enough. Enough means that you're getting tired, that you spent as much time as you wanted on it, or that the data is exhausted.\n",
        "\n",
        "If you have previously worked on the translations, and want to start from a line that is not the beginning of the file, please select this line in the following field and we'll start from there. \n",
        "We're starting to count at 1.\n",
        "If you have not worked on this yet, please start by 1.\n",
        "\n",
        "To save the intermediate progress (e.g. if you want to take a break), execute the cells below the post-edit interface."
      ]
    },
    {
      "cell_type": "code",
      "metadata": {
        "id": "pNXlTChoYdX7",
        "colab_type": "code",
        "cellView": "form",
        "colab": {}
      },
      "source": [
        "#@title Starting position\n",
        "\n",
        "start_sent = 1 #@param {type:\"number\"}\n"
      ],
      "execution_count": 10,
      "outputs": []
    },
    {
      "cell_type": "markdown",
      "metadata": {
        "id": "bZ6W3EQ-J7zU",
        "colab_type": "text"
      },
      "source": [
        "If you want preceding sentences to be displayed as well, set ´num_cont_sent´ to the desired number of sentences. Setting it to 0 results in showing no preceding sentences. On the target side, the field shows your prior corrections."
      ]
    },
    {
      "cell_type": "code",
      "metadata": {
        "colab_type": "code",
        "cellView": "form",
        "id": "xNT2fia2GRRt",
        "colab": {}
      },
      "source": [
        "#@title Number of sentences for context\n",
        "\n",
        "num_cont_sent =  0#@param {type:\"number\"}\n",
        "assert num_cont_sent >= 0\n"
      ],
      "execution_count": 25,
      "outputs": []
    },
    {
      "cell_type": "code",
      "metadata": {
        "id": "uugxFs3YjIL_",
        "colab_type": "code",
        "cellView": "form",
        "colab": {
          "base_uri": "https://localhost:8080/",
          "height": 291,
          "referenced_widgets": [
            "a8beac07a38f43dbbb2e0fba14d37d32",
            "11d6498306174dd6ab99abf8f653f8d0",
            "270be2f369614e0a82badc7ab2549490",
            "76a9f9c5123e44b38594052a5bc2d388",
            "3dec52bc7b52428ba33abe205893e244",
            "e6845f196afc4eef896f9e38392cd9a7",
            "38408928628949069a277d6a888e7586",
            "4a818afaac01434b84550cd4d01cc101",
            "09399b9b436d40a1a0726d3e895021a9",
            "590f509533b04f05bd299d5b28c0296e",
            "bbc2ed3d45e649ddbd0ff4ec58ccc911",
            "c5c1fece94944d60aabce71b44f40a4c",
            "0bc98f5b674345708da934ebd75a6e17",
            "a8325d491d6a4f8b8712d01ac789cf3c",
            "898c61efea4e4e9e8d458e1fb32e4dbf",
            "d9e273bc11a747bf9f4be1a903f7a9a0",
            "b2a3bf85d09c4cab92ccab9686e34a01"
          ]
        },
        "outputId": "47407a57-ef12-4667-f66a-f5afa872078d"
      },
      "source": [
        "#@title Now it's your turn!\n",
        "class SentenceCounterLabel():\n",
        "  def __init__(self, num_sentences):\n",
        "    self._num_sentences = num_sentences\n",
        "    self._label = widgets.Label(\"\")\n",
        "\n",
        "  def update(self, current_sentence_index):\n",
        "    self._label.value = f\"Please correct the mistakes in the following translation ({current_sentence_index + 1} out of {self._num_sentences}). Delete the proposed translation if you do not know how to correct or replace it.\"\n",
        "\n",
        "  def get_label(self):\n",
        "    return self._label\n",
        "\n",
        "class SentenceCounter(object):\n",
        "  def __init__(self, source_sentences, target_sentences, counter=1):\n",
        "    self._count = counter-1\n",
        "    self._init_count = counter-1\n",
        "    \n",
        "    assert len(source_sentences) == len(target_sentences)\n",
        "    self._max_count = len(source_sentences) - 1\n",
        "\n",
        "    self._source = source_sentences\n",
        "    self._target = target_sentences\n",
        "    self._post_edits = [\"\"]*len(target_sentences)\n",
        "\n",
        "    self._label = SentenceCounterLabel(self._max_count + 1)\n",
        "    self._update_label()\n",
        "\n",
        "  def _update_label(self):\n",
        "    self._label.update(self._count)\n",
        "\n",
        "  def decrement(self):\n",
        "    if self._count > 0:\n",
        "      self._count -= 1\n",
        "\n",
        "    self._update_label()\n",
        "\n",
        "  def increment(self):\n",
        "    if self._count < self._max_count:\n",
        "      self._count += 1\n",
        "\n",
        "    self._update_label()\n",
        "\n",
        "  def get_count(self):\n",
        "    return self._count\n",
        "  \n",
        "  def get_max_count(self):\n",
        "    return self._max_count\n",
        "\n",
        "  def get_source(self):\n",
        "    return self._source[self._count]\n",
        "\n",
        "  def get_target(self):\n",
        "    return self._target[self._count]\n",
        "\n",
        "  def get_target_context(self):\n",
        "    return '\\n'.join(\n",
        "        self._post_edits[max(self._count-num_cont_sent, 0):self._count])\n",
        "    \n",
        "  def get_source_context(self):\n",
        "    return '\\n'.join(\n",
        "        self._source[max(self._count-num_cont_sent, 0):self._count])\n",
        "\n",
        "  def update_pe(self, post_edit):\n",
        "    self._post_edits[self._count] = post_edit\n",
        "\n",
        "  def get_label(self):\n",
        "    return self._label.get_label()\n",
        "\n",
        "  def get_pes(self):\n",
        "    return self._post_edits\n",
        "\n",
        "  @property\n",
        "  def pe_is_complete(self):\n",
        "    return all([e != '' for e in self._post_edits])\n",
        "\n",
        "sentence_counter = SentenceCounter(\n",
        "  sources, targets, counter=start_sent\n",
        ")\n",
        "\n",
        "out = widgets.Output()\n",
        "\n",
        "src_context = widgets.Textarea(\n",
        "    value=sentence_counter.get_source_context(),\n",
        "    description=\"Source context\",\n",
        "    disabled=True,\n",
        "    layout=widgets.Layout(width=\"90%\", overflow=\"auto\"),\n",
        "  rows=max(1, num_cont_sent)\n",
        ")\n",
        "\n",
        "trg_context = widgets.Textarea(\n",
        "    value=sentence_counter.get_target_context(),\n",
        "    description=\"Target context (corrected)\",\n",
        "    disabled=True,\n",
        "    layout=widgets.Layout(width=\"90%\", overflow=\"auto\"),\n",
        "  rows=max(1, num_cont_sent)\n",
        ")\n",
        "\n",
        "trg_text = widgets.Textarea(\n",
        "  value=sentence_counter.get_target(),\n",
        "  description=\"Target\",\n",
        "  disabled=False,\n",
        "  layout=widgets.Layout(width=\"90%\", overflow=\"auto\"),\n",
        "  rows=5\n",
        ")\n",
        "\n",
        "src_text = widgets.Textarea(\n",
        "  value=sentence_counter.get_source(),\n",
        "  description=\"Source\",\n",
        "  disabled=True,\n",
        "  layout=widgets.Layout(width=\"90%\", overflow=\"auto\"),\n",
        "  rows=5\n",
        ")\n",
        "\n",
        "prev_button = widgets.Button(\n",
        "  description='Previous Sentence',\n",
        "  disabled=False,\n",
        "  button_style='',\n",
        "  tooltip='Click me',\n",
        "  icon='check'\n",
        ")\n",
        "\n",
        "next_button = widgets.Button(\n",
        "  description='Next Sentence',\n",
        "  disabled=False,\n",
        "  button_style='',\n",
        "  tooltip='Click me',\n",
        "  icon='check'\n",
        ")\n",
        "\n",
        "def update_text_fields(trg_text_field, src_text_field, trg_context_field,\n",
        "                       src_context_field, counter, increment=True):\n",
        "  counter.update_pe(trg_text_field.value)\n",
        "\n",
        "  if increment:\n",
        "    counter.increment()\n",
        "\n",
        "  else:\n",
        "    counter.decrement()\n",
        "  \n",
        "  trg_text_field.value = counter.get_target()\n",
        "  src_text_field.value = counter.get_source()\n",
        "  trg_context_field.value = counter.get_target_context()\n",
        "  src_context_field.value = counter.get_source_context()\n",
        "\n",
        "\n",
        "with out:\n",
        "  def on_submit(trg_text_field, src_text_field, trg_context_field,\n",
        "                src_context_field, counter):\n",
        "    update_text_fields(trg_text_field, src_text_field, trg_context_field, \n",
        "                       src_context_field, counter)\n",
        "\n",
        "  def on_click(button, trg_text_field, src_text_field, trg_context_field,\n",
        "                src_context_field, counter, increment=True):\n",
        "    update_text_fields(trg_text_field, src_text_field, trg_context_field, \n",
        "                       src_context_field, counter, increment=increment)\n",
        "\n",
        "  display(sentence_counter.get_label())\n",
        "\n",
        "  if num_cont_sent > 0:\n",
        "    display(src_context)\n",
        "  display(src_text)\n",
        "  if num_cont_sent > 0:\n",
        "    display(trg_context)\n",
        "  display(trg_text)\n",
        "  display(prev_button)\n",
        "  display(next_button)\n",
        "\n",
        "  prev_button.on_click(functools.partial(\n",
        "    on_click,\n",
        "    trg_text_field=trg_text,\n",
        "    src_text_field=src_text,\n",
        "    src_context_field=src_context,\n",
        "    trg_context_field=trg_context,\n",
        "    counter=sentence_counter,\n",
        "    increment=False\n",
        "  ))\n",
        "\n",
        "  next_button.on_click(functools.partial(\n",
        "    on_click,\n",
        "    trg_text_field=trg_text,\n",
        "    src_text_field=src_text,\n",
        "    src_context_field=src_context,\n",
        "    trg_context_field=trg_context,\n",
        "    counter=sentence_counter\n",
        "  ))\n",
        "\n",
        "display(out)"
      ],
      "execution_count": 26,
      "outputs": [
        {
          "output_type": "display_data",
          "data": {
            "application/vnd.jupyter.widget-view+json": {
              "model_id": "a8beac07a38f43dbbb2e0fba14d37d32",
              "version_minor": 0,
              "version_major": 2
            },
            "text/plain": [
              "Output()"
            ]
          },
          "metadata": {
            "tags": []
          }
        }
      ]
    },
    {
      "cell_type": "code",
      "metadata": {
        "id": "IOP1lkZ9lAQp",
        "colab_type": "code",
        "colab": {
          "base_uri": "https://localhost:8080/",
          "height": 35
        },
        "outputId": "3025e641-fed0-43da-84f4-1782e71cd27d"
      },
      "source": [
        "print(\"Finished? You have completed {} sentences. BRAVO!\".format(sentence_counter._count-sentence_counter._init_count))\n",
        "end_sent = sentence_counter._count\n",
        "post_edits = sentence_counter.get_pes()"
      ],
      "execution_count": null,
      "outputs": [
        {
          "output_type": "stream",
          "text": [
            "Finished? You have completed 5 sentences. BRAVO!\n"
          ],
          "name": "stdout"
        }
      ]
    },
    {
      "cell_type": "markdown",
      "metadata": {
        "id": "unYpOzgeqB7Y",
        "colab_type": "text"
      },
      "source": [
        "### Post-Edit Analysis\n",
        "\n",
        "We compute a bunch of automatic metrics to assess how much had to be edited.\n",
        "- BLEU: on corpus- and on sentence-level, for tokenized inputs and without tokenization.\n",
        "- ChrF: a character-level metric, on untokenized inputs.\n",
        "- TER: on sentence-level, white-space tokenized.\n",
        "\n",
        "In addition, your feedback would be very valuable.\n"
      ]
    },
    {
      "cell_type": "code",
      "metadata": {
        "id": "_0aO2DSBpiK2",
        "colab_type": "code",
        "cellView": "form",
        "colab": {
          "base_uri": "https://localhost:8080/",
          "height": 108,
          "referenced_widgets": [
            "9c3833bd49e446f4ba491d90149b3c23",
            "06db16a1b35f4fe0a3b160e70379991c",
            "b80b4e2f7ada430f9d1cdaf6fccae82f"
          ]
        },
        "outputId": "da77c13d-5912-4b97-fc9e-22da43c18210"
      },
      "source": [
        "#@title Where did the model struggle?\n",
        "\n",
        "# Compute metrics only for selected talks on corpus level, and for everything on sent. level.\n",
        "sel_hyps, sel_pes = zip(*[(h, p) for h, p in zip(targets, post_edits) if p !=''])\n",
        "bleu_pe_none_tok = sacrebleu.corpus_bleu(sel_hyps, [sel_pes], tokenize='none').score\n",
        "bleu_pe_intl_tok = sacrebleu.corpus_bleu(sel_hyps, [sel_pes], tokenize='intl').score\n",
        "bleu_pe_none_tok_sent = [sacrebleu.sentence_bleu(target, post_edit).score for target, post_edit in zip(targets, post_edits)]\n",
        "chrf_pe_sent = [sacrebleu.sentence_chrf(target, post_edit).score*100 for target, post_edit in zip(targets, post_edits)]\n",
        "ter_pe_sent = [pyter.ter(target.split(' '), post_edit.split(' ')) for target, post_edit in zip(targets, post_edits)]\n",
        "\n",
        "#print('BLEU without tokenization: ', bleu_pe_none_tok)\n",
        "#print('BLEU with intl tokenization: ', bleu_pe_intl_tok)\n",
        "#print('Avg sent. BLEU', np.mean(bleu_pe_none_tok_sent))\n",
        "#print('Avg ChrF', np.mean(chrf_pe_sent))\n",
        "#print('Avg TER', np.mean(ter_pe_sent))\n",
        "\n",
        "feedback = widgets.Textarea(\n",
        "  value='The model had difficulties... ',\n",
        "  description=\"Feedback\",\n",
        "  disabled=False,\n",
        "  layout=widgets.Layout(width=\"90%\", overflow=\"auto\"),\n",
        "  rows=5\n",
        ")\n",
        "feedback"
      ],
      "execution_count": null,
      "outputs": [
        {
          "output_type": "display_data",
          "data": {
            "application/vnd.jupyter.widget-view+json": {
              "model_id": "9c3833bd49e446f4ba491d90149b3c23",
              "version_minor": 0,
              "version_major": 2
            },
            "text/plain": [
              "Textarea(value='The model had difficulties... ', description='Feedback', layout=Layout(overflow='auto', width=…"
            ]
          },
          "metadata": {
            "tags": []
          }
        }
      ]
    },
    {
      "cell_type": "markdown",
      "metadata": {
        "id": "1K-eW_JaphC5",
        "colab_type": "text"
      },
      "source": [
        "## Store the results\n",
        "\n",
        "We store sources, post-edits and targets in a per-sentence table, and merge individual sentences back together into the format of the survey.\n"
      ]
    },
    {
      "cell_type": "code",
      "metadata": {
        "id": "A3s-fXGTxbbq",
        "colab_type": "code",
        "cellView": "form",
        "colab": {}
      },
      "source": [
        "#@title Prepare output files\n",
        "assert len(targets) == len(sources) == len(post_edits)\n",
        "\n",
        "pe_output_file = 'pe_{}_{}-{}.tsv'.format(language, start_sent, end_sent)\n",
        "with open(pe_output_file, 'w') as ofile:\n",
        "  ofile.write('source\\ttranslation\\tpost-edit\\tbleu\\tchrf\\tter\\n')\n",
        "  for t, s, p, b, c, ter in zip(targets, sources, post_edits, bleu_pe_none_tok_sent, chrf_pe_sent, ter_pe_sent):\n",
        "    ofile.write('{}\\t{}\\t{}\\t{:.2f}\\t{:.2f}\\t{:.2f}\\n'.format(s, t, p, b, c, ter))\n",
        "\n",
        "pe_metric_file = 'pe_metrics_{}_{}-{}.tsv'.format(language, start_sent, end_sent)\n",
        "with open(pe_metric_file, 'w') as ofile:\n",
        "  ofile.write('Corpus BLEU tok=none:\\t{:.2f}\\n'.format(bleu_pe_none_tok))\n",
        "  ofile.write('Corpus BLEU tok=intl:\\t{:.2f}\\n'.format(bleu_pe_intl_tok))\n",
        "  ofile.write('Sent. BLEU tok=none:\\t{:.2f}\\n'.format(np.mean(bleu_pe_none_tok_sent)))\n",
        "  ofile.write('Avg TER tok=white:\\t{:.2f}\\n'.format(np.mean(ter_pe_sent)))\n",
        "  ofile.write('Avg ChrF:\\t{:.2f}\\n'.format(np.mean(chrf_pe_sent)))\n",
        "\n",
        "feedback_file = 'feedback_{}_{}-{}.txt'.format(language, start_sent, end_sent)\n",
        "with open(feedback_file, 'w') as ofile:\n",
        "  ofile.write(feedback.value)\n",
        "\n",
        "ted_df = ted_df.assign(translations=targets)\n",
        "ted_df = ted_df.assign(post_edits=post_edits)\n",
        "\n",
        "def store_translations(data, output_file):\n",
        "  \"\"\"Store the translations (post-edited) in a file like the survey inputs.\"\"\"\n",
        "  with open(output_file, 'w') as ofile:\n",
        "    for translation in data['translations']:\n",
        "      ofile.write('{}\\n'.format(translation))\n",
        "\n",
        "output_file = 'ted_{}_{}-{}.tsv'.format(language, start_sent, end_sent)\n",
        "store_translations(ted_df, output_file)"
      ],
      "execution_count": null,
      "outputs": []
    },
    {
      "cell_type": "code",
      "metadata": {
        "id": "TotJVQFy0feo",
        "colab_type": "code",
        "cellView": "code",
        "colab": {
          "base_uri": "https://localhost:8080/",
          "height": 289
        },
        "outputId": "ce581fea-1330-4212-b00e-289ed0aec5b2"
      },
      "source": [
        "#@title Source and target excerpt\n",
        "ted_df[start_sent-1:start_sent+4]"
      ],
      "execution_count": null,
      "outputs": [
        {
          "output_type": "execute_result",
          "data": {
            "text/html": [
              "<div>\n",
              "<style scoped>\n",
              "    .dataframe tbody tr th:only-of-type {\n",
              "        vertical-align: middle;\n",
              "    }\n",
              "\n",
              "    .dataframe tbody tr th {\n",
              "        vertical-align: top;\n",
              "    }\n",
              "\n",
              "    .dataframe thead th {\n",
              "        text-align: right;\n",
              "    }\n",
              "</style>\n",
              "<table border=\"1\" class=\"dataframe\">\n",
              "  <thead>\n",
              "    <tr style=\"text-align: right;\">\n",
              "      <th></th>\n",
              "      <th>source</th>\n",
              "      <th>tokenized_sentences</th>\n",
              "      <th>bped_sentences</th>\n",
              "      <th>translations</th>\n",
              "      <th>post_edits</th>\n",
              "    </tr>\n",
              "  </thead>\n",
              "  <tbody>\n",
              "    <tr>\n",
              "      <th>0</th>\n",
              "      <td>Reset the three minutes, that's just not fair.</td>\n",
              "      <td>Reset the three minutes , that's just not fair .</td>\n",
              "      <td>Res@@ et the three minutes , th@@ at@@ '@@ s j...</td>\n",
              "      <td>Nga murahu ha mimunithi miraru, muambuli wo vh...</td>\n",
              "      <td>Nga murahu ha mimunithi miraru, muambuli wo vh...</td>\n",
              "    </tr>\n",
              "    <tr>\n",
              "      <th>1</th>\n",
              "      <td>I mean I'm nervous enough as it is.</td>\n",
              "      <td>I mean I'm nervous enough as it is .</td>\n",
              "      <td>I mean I@@ '@@ m nervous enough as it is .</td>\n",
              "      <td>Ndo vha ndi tshi khou amba nga ha u tshuwa ho ...</td>\n",
              "      <td>Ndo vha ndi tshi khou amba nga ha u tshuwa ho ...</td>\n",
              "    </tr>\n",
              "    <tr>\n",
              "      <th>2</th>\n",
              "      <td>But I am not as nervous as I was five weeks ago.</td>\n",
              "      <td>But I am not as nervous as I was five weeks ago .</td>\n",
              "      <td>But I am not as nervous as I was five weeks ago .</td>\n",
              "      <td>Fhedzi a tho ngo tshuwa musi ndi na miṅwaha mi...</td>\n",
              "      <td>Fhedzi a tho ngo tshuwa musi ndi na miṅwaha mi...</td>\n",
              "    </tr>\n",
              "    <tr>\n",
              "      <th>3</th>\n",
              "      <td>Five weeks ago I had total hip replacement sur...</td>\n",
              "      <td>Five weeks ago I had total hip replacement sur...</td>\n",
              "      <td>Five weeks ago I had total hip replacement sur...</td>\n",
              "      <td>Ho no fhela vhege ṱhanu dzo fhiraho ndo vha nd...</td>\n",
              "      <td>Ho no fhela vhege ṱhanu dzo fhiraho ndo vha nd...</td>\n",
              "    </tr>\n",
              "    <tr>\n",
              "      <th>4</th>\n",
              "      <td>Electric saw, power drill, totally disgusting ...</td>\n",
              "      <td>Electric saw , power drill , totally disgustin...</td>\n",
              "      <td>El@@ ec@@ tri@@ c saw , power dr@@ ill , total...</td>\n",
              "      <td>Elecc o vhona maanḓa mahulwane, a tshi khou l...</td>\n",
              "      <td>Elecc o vhona maanḓa mahulwane, a tshi khou l...</td>\n",
              "    </tr>\n",
              "  </tbody>\n",
              "</table>\n",
              "</div>"
            ],
            "text/plain": [
              "                                              source  ...                                         post_edits\n",
              "0     Reset the three minutes, that's just not fair.  ...  Nga murahu ha mimunithi miraru, muambuli wo vh...\n",
              "1                I mean I'm nervous enough as it is.  ...  Ndo vha ndi tshi khou amba nga ha u tshuwa ho ...\n",
              "2   But I am not as nervous as I was five weeks ago.  ...  Fhedzi a tho ngo tshuwa musi ndi na miṅwaha mi...\n",
              "3  Five weeks ago I had total hip replacement sur...  ...  Ho no fhela vhege ṱhanu dzo fhiraho ndo vha nd...\n",
              "4  Electric saw, power drill, totally disgusting ...  ...  Elecc o vhona maanḓa mahulwane, a tshi khou l...\n",
              "\n",
              "[5 rows x 5 columns]"
            ]
          },
          "metadata": {
            "tags": []
          },
          "execution_count": 117
        }
      ]
    },
    {
      "cell_type": "markdown",
      "metadata": {
        "id": "Xyam69pl3vJh",
        "colab_type": "text"
      },
      "source": [
        "# Done!\n",
        "\n",
        "To finish, complete the following steps\n",
        "1. Download the following files from this colab:\n",
        "  - ted_{language}_{start-end}.tsv\n",
        "  - pe_metrics_{language}_{start-end}.tsv\n",
        "  - pe_{language}_{start-end}.tsv\n",
        "  - feedback_{language}_{start-end}.txt\n",
        " \n",
        "  For the download, either execute the next cell and allow the download, or click on 'Files' on the left bar, right-click on files and download.\n",
        "2. Send the data to kreutzer@cl.uni-heidelberg.de."
      ]
    },
    {
      "cell_type": "code",
      "metadata": {
        "id": "zIW3OgPI3gfG",
        "colab_type": "code",
        "cellView": "form",
        "colab": {}
      },
      "source": [
        "#@title File download\n",
        "from google.colab import files\n",
        "files.download('ted_{}_{}-{}.tsv'.format(language, start_sent, end_sent))\n",
        "files.download('pe_metrics_{}_{}-{}.tsv'.format(language, start_sent, end_sent))\n",
        "files.download('pe_{}_{}-{}.tsv'.format(language, start_sent, end_sent))\n",
        "files.download('feedback_{}_{}-{}.txt'.format(language, start_sent, end_sent))"
      ],
      "execution_count": null,
      "outputs": []
    },
    {
      "cell_type": "code",
      "metadata": {
        "id": "cWN3gVAHcMsV",
        "colab_type": "code",
        "colab": {
          "base_uri": "https://localhost:8080/",
          "height": 35
        },
        "outputId": "cb426686-ac9a-4350-94bf-09dbb34e822f"
      },
      "source": [
        "print('If you continue with more sentences, please start at sentence {}.'.format(end_sent+1))"
      ],
      "execution_count": null,
      "outputs": [
        {
          "output_type": "stream",
          "text": [
            "If you continue with more sentences, please start at sentence 6.\n"
          ],
          "name": "stdout"
        }
      ]
    },
    {
      "cell_type": "code",
      "metadata": {
        "id": "N5otdlLQnIsg",
        "colab_type": "code",
        "colab": {}
      },
      "source": [
        ""
      ],
      "execution_count": null,
      "outputs": []
    }
  ]
}